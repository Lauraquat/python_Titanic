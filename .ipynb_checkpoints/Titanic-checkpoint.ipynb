{
 "cells": [
  {
   "cell_type": "code",
   "execution_count": 1,
   "metadata": {
    "tags": []
   },
   "outputs": [],
   "source": [
    "import pandas as pd\n",
    "import seaborn as sns\n",
    "import matplotlib.pyplot as plt"
   ]
  },
  {
   "cell_type": "code",
   "execution_count": 2,
   "metadata": {},
   "outputs": [
    {
     "ename": "ImportError",
     "evalue": "cannot import name 'chat' from 'xgboost' (/home/laura/.local/lib/python3.8/site-packages/xgboost/__init__.py)",
     "output_type": "error",
     "traceback": [
      "\u001b[0;31m---------------------------------------------------------------------------\u001b[0m",
      "\u001b[0;31mImportError\u001b[0m                               Traceback (most recent call last)",
      "\u001b[0;32m<ipython-input-2-467bd507472d>\u001b[0m in \u001b[0;36m<module>\u001b[0;34m\u001b[0m\n\u001b[0;32m----> 1\u001b[0;31m \u001b[0;32mfrom\u001b[0m \u001b[0mxgboost\u001b[0m \u001b[0;32mimport\u001b[0m \u001b[0mchat\u001b[0m\u001b[0;34m\u001b[0m\u001b[0;34m\u001b[0m\u001b[0m\n\u001b[0m\u001b[1;32m      2\u001b[0m \u001b[0;32mfrom\u001b[0m \u001b[0msklearn\u001b[0m\u001b[0;34m.\u001b[0m\u001b[0mmodel_selection\u001b[0m \u001b[0;32mimport\u001b[0m \u001b[0mtrain_test_split\u001b[0m\u001b[0;34m\u001b[0m\u001b[0;34m\u001b[0m\u001b[0m\n\u001b[1;32m      3\u001b[0m \u001b[0;32mfrom\u001b[0m \u001b[0msklearn\u001b[0m\u001b[0;34m.\u001b[0m\u001b[0mmetrics\u001b[0m \u001b[0;32mimport\u001b[0m \u001b[0maccuracy_score\u001b[0m\u001b[0;34m\u001b[0m\u001b[0;34m\u001b[0m\u001b[0m\n\u001b[1;32m      4\u001b[0m \u001b[0;32mfrom\u001b[0m \u001b[0msklearn\u001b[0m\u001b[0;34m.\u001b[0m\u001b[0mpreprocessing\u001b[0m \u001b[0;32mimport\u001b[0m \u001b[0mOrdinalEncoder\u001b[0m\u001b[0;34m\u001b[0m\u001b[0;34m\u001b[0m\u001b[0m\n",
      "\u001b[0;31mImportError\u001b[0m: cannot import name 'chat' from 'xgboost' (/home/laura/.local/lib/python3.8/site-packages/xgboost/__init__.py)"
     ]
    }
   ],
   "source": [
    "from xgboost import XGBClassifier\n",
    "from sklearn.model_selection import train_test_split\n",
    "from sklearn.metrics import accuracy_score\n",
    "from sklearn.preprocessing import OrdinalEncoder"
   ]
  },
  {
   "cell_type": "code",
   "execution_count": null,
   "metadata": {
    "tags": []
   },
   "outputs": [],
   "source": [
    "df = pd.read_csv('titanic.csv')"
   ]
  },
  {
   "cell_type": "code",
   "execution_count": null,
   "metadata": {},
   "outputs": [],
   "source": [
    "# Supprimer les colonnes \"Cabin\", \"SibSp\", \"Parch\", \"Ticket\", \"Name\" et \"passengerId\" qui ne sont pas significatives\n",
    "df = df.drop(['Cabin', 'SibSp' ,'Parch', 'Ticket', 'Name', 'PassengerId'], axis=1)"
   ]
  },
  {
   "cell_type": "code",
   "execution_count": null,
   "metadata": {
    "tags": []
   },
   "outputs": [],
   "source": [
    "city_map = {'S': 0, 'C': 1, 'Q':2}\n",
    "df['Embarked'] = df['Embarked'].map(city_map)"
   ]
  },
  {
   "cell_type": "code",
   "execution_count": null,
   "metadata": {
    "tags": []
   },
   "outputs": [],
   "source": [
    "df.hist()"
   ]
  },
  {
   "cell_type": "markdown",
   "metadata": {},
   "source": [
    "### Grâce à ces graphiques on peut constater l'importance de certaines colonnes de notre tableau qui ont des données bien plus fluctuantes et qui seront donc pertinentes à analyser.\n",
    "### Nous avons une vue globale du nombre de survivants, des âges des passagers, du nombre de passagers en fonction de leur classe, de leur ville d'embarquement ou du prix du billet."
   ]
  },
  {
   "cell_type": "code",
   "execution_count": null,
   "metadata": {
    "jupyter": {
     "outputs_hidden": true
    },
    "scrolled": true,
    "tags": []
   },
   "outputs": [],
   "source": [
    "pd.set_option(\"display.max_rows\", None)\n",
    "df"
   ]
  },
  {
   "cell_type": "code",
   "execution_count": null,
   "metadata": {
    "tags": []
   },
   "outputs": [],
   "source": [
    "gender_map = {'male': 0, 'female': 1}"
   ]
  },
  {
   "cell_type": "code",
   "execution_count": null,
   "metadata": {
    "jupyter": {
     "outputs_hidden": true
    },
    "scrolled": true,
    "tags": []
   },
   "outputs": [],
   "source": [
    "df['Sex'] = df['Sex'].map(gender_map)\n",
    "df"
   ]
  },
  {
   "cell_type": "code",
   "execution_count": null,
   "metadata": {},
   "outputs": [],
   "source": [
    "# calculer la moyenne des prix par classe\n",
    "average = df.groupby('Pclass')['Fare'].mean()"
   ]
  },
  {
   "cell_type": "code",
   "execution_count": null,
   "metadata": {},
   "outputs": [],
   "source": [
    "average"
   ]
  },
  {
   "cell_type": "code",
   "execution_count": null,
   "metadata": {
    "tags": []
   },
   "outputs": [],
   "source": [
    "nb_towns = df[\"Embarked\"].nunique()\n",
    "nb_towns"
   ]
  },
  {
   "cell_type": "code",
   "execution_count": null,
   "metadata": {
    "tags": []
   },
   "outputs": [],
   "source": [
    "towns_embarked_count = df[\"Embarked\"].value_counts()\n",
    "print(towns_embarked_count)"
   ]
  },
  {
   "cell_type": "code",
   "execution_count": null,
   "metadata": {
    "jupyter": {
     "outputs_hidden": true
    },
    "tags": []
   },
   "outputs": [],
   "source": [
    "# Remplaçement des valeurs NaN de la colonne Sex en fonction de la classe, du sexe, et de la ville d'embarcation\n",
    "age_means = df.groupby(['Sex', 'Pclass', 'Embarked'])['Age'].mean()\n",
    "df['Age'] = df.apply(lambda row: age_means[row['Sex'], row['Pclass'], row['Embarked']] if pd.isnull(row['Age']) else row['Age'], axis=1)\n",
    "df['Age'] = df['Age'].apply(lambda x: round(x, 1))\n",
    "\n",
    "df"
   ]
  },
  {
   "cell_type": "code",
   "execution_count": null,
   "metadata": {
    "tags": []
   },
   "outputs": [],
   "source": [
    "plt.hist(df['Age'], bins=7)\n",
    "plt.xlabel('Age')\n",
    "plt.ylabel('Nombre de passagers')\n",
    "plt.title(\"Distribution de l'âge des passagers\")\n",
    "plt.show()"
   ]
  },
  {
   "cell_type": "markdown",
   "metadata": {},
   "source": [
    "### Ce graphique nous indique la quantité de passagers classés par leur tranche d'âge. On peut constater qu'une majorité des passagers ont entre 25 et 35 ans. A contrario, les passager entre 55 et 80 ans sont peut nombreux."
   ]
  },
  {
   "cell_type": "code",
   "execution_count": null,
   "metadata": {
    "tags": []
   },
   "outputs": [],
   "source": [
    "plt.hist(df['Survived'].apply(str), bins=2)\n",
    "plt.xlabel('Nombre de survivants')\n",
    "plt.ylabel('Nombre de passagers')\n",
    "plt.title(\"Répartition selon la survie des passagers (0 = mort)\")\n",
    "plt.show()"
   ]
  },
  {
   "cell_type": "markdown",
   "metadata": {},
   "source": [
    "### On constate grâce à ce graphique que le nombre de morts est plus important que le nombre de survivants (presque 2/3 de décés)."
   ]
  },
  {
   "cell_type": "code",
   "execution_count": null,
   "metadata": {
    "tags": []
   },
   "outputs": [],
   "source": [
    "fig, ax = plt.subplots()\n",
    "\n",
    "# Filtrer les passagers survivants\n",
    "survivors = df[df['Survived'] == 1]\n",
    "\n",
    "# Tracer l'histogramme des âges des survivants\n",
    "ax.hist(survivors['Age'], bins=20)\n",
    "\n",
    "# Ajouter des étiquettes d'axe et un titre\n",
    "ax.set_xlabel(\"Age\")\n",
    "ax.set_ylabel(\"Nombre de survivants\")\n",
    "ax.set_title(\"Nombre de survivants par âge\")\n",
    "\n",
    "# Afficher le graphe\n",
    "plt.show()"
   ]
  },
  {
   "cell_type": "markdown",
   "metadata": {},
   "source": [
    "### Ce graphique nous indique le nombre global de survivants en fonction de leur âge. Les enfants en bas âge et les jeunes adulte (entre 20 et 35) sont les tranches d'âges avec le plus de taux de survie."
   ]
  },
  {
   "cell_type": "code",
   "execution_count": null,
   "metadata": {
    "tags": []
   },
   "outputs": [],
   "source": [
    "# Créer un nouveau DataFrame contenant uniquement les survivants\n",
    "survivors = df[df['Survived'] == 1]\n",
    "\n",
    "# Calculer le nombre de survivants par sexe\n",
    "survivors_by_sex = survivors.groupby('Sex').size()\n",
    "# Créer le graphique\n",
    "plt.bar(survivors_by_sex.index, survivors_by_sex.values)\n",
    "plt.title('Nombre de survivants par sexe')\n",
    "plt.xlabel('Sexe')\n",
    "plt.ylabel('Nombre de survivants')\n",
    "plt.show()"
   ]
  },
  {
   "cell_type": "markdown",
   "metadata": {},
   "source": [
    "### Grâce à ce graphique nous constatons que plus de femmes on survécu à la chute du Titanic et moitié moins d'hommes ont survécu à ce drame "
   ]
  },
  {
   "cell_type": "code",
   "execution_count": null,
   "metadata": {
    "tags": []
   },
   "outputs": [],
   "source": [
    "# Filtrage des données pour n'inclure que les femmes\n",
    "female_df = df.loc[df['Sex'] == 1]\n",
    "\n",
    "# Création d'un graphique de comptage des survivants en fonction de l'âge\n",
    "plt.hist(female_df['Age'], bins=20, alpha=0.5, label='Toutes les femmes')\n",
    "plt.hist(female_df[female_df['Survived'] == 1]['Age'], bins=20, alpha=0.5 , label='Survivante')\n",
    "\n",
    "plt.legend(loc='upper right')\n",
    "plt.xlabel('Âge')\n",
    "plt.ylabel('Nombre de passagers femme Ayant survécu')\n",
    "plt.show()"
   ]
  },
  {
   "cell_type": "markdown",
   "metadata": {},
   "source": [
    "### Avec ce graphique on peut voir en 'orange' le nombre de femme ayant survécu en fonction de leur âge par rapport au nombre total de femmes. On peut donc contater que l'on a un pic de survivantes dans les femmes ayant entre 22 et 28 ans (qui correspond également à la tranche d'âge majoritaire pour la totalité des femmes). On se rend également compte que le pourcentage de femme ayant survécu est pluôt très élévé par rapport au nombre de femme total."
   ]
  },
  {
   "cell_type": "code",
   "execution_count": null,
   "metadata": {
    "tags": []
   },
   "outputs": [],
   "source": [
    "# Filtrage des données pour n'inclure que les femmes\n",
    "female_df = df.loc[df['Sex'] == 1]\n",
    "\n",
    "# Création d'un graphique de comptage des survivants en fonction de l'âge\n",
    "plt.hist(female_df['Age'], bins=20, alpha=0.5, label = \"Toutes les femmes\")\n",
    "plt.hist(female_df[female_df['Survived'] == 0]['Age'], bins=20, alpha=0.5, label='Décédées')\n",
    "\n",
    "plt.legend(loc='upper right')\n",
    "plt.xlabel('Âge')\n",
    "plt.ylabel('Nombre de passagers femme n\\'ayant pas survécu')\n",
    "plt.show()"
   ]
  },
  {
   "cell_type": "markdown",
   "metadata": {},
   "source": [
    "### Avec ce graphique on peut voir en 'orange' le nombre de femme décédées en fonction de leur âge par rapport au nombre total de femmes (en bleu), On se rend compte que le pourcentage de femmes décédées est faible par rapport au total des femmes."
   ]
  },
  {
   "cell_type": "code",
   "execution_count": null,
   "metadata": {
    "tags": []
   },
   "outputs": [],
   "source": [
    "# Filtrage des données pour n'inclure que les hommes\n",
    "homme_df = df[df['Sex'] == 0]\n",
    "\n",
    "# Création d'un graphique de comptage des survivants en fonction de l'âge\n",
    "plt.hist(homme_df['Age'], bins=20, alpha=0.5, label='Tous les hommes')\n",
    "plt.hist(homme_df.loc[homme_df['Survived'] == 1]['Age'], bins=20, alpha=0.5, label='Survivants')\n",
    "\n",
    "plt.legend(loc='upper right')\n",
    "plt.xlabel('Âge')\n",
    "plt.ylabel('Nombre de passagers homme ayant survécu')\n",
    "plt.show()"
   ]
  },
  {
   "cell_type": "markdown",
   "metadata": {},
   "source": [
    "### On peut constater ici que par rapport au nombre total d'homme sur le bateau, le pourcentage des hommes ayant survécu très faible"
   ]
  },
  {
   "cell_type": "code",
   "execution_count": null,
   "metadata": {
    "scrolled": true,
    "tags": []
   },
   "outputs": [],
   "source": [
    "# Filtrage des données pour n'inclure que les hommes\n",
    "homme_df = df[df['Sex'] == 0]\n",
    "\n",
    "# Création d'un graphique de comptage des survivants en fonction de l'âgeAge\n",
    "plt.hist(homme_df['Age'], bins=20, alpha=0.5, label='Tous les hommes')\n",
    "plt.hist(homme_df.loc[homme_df['Survived'] == 0]['Age'], bins=20, alpha=0.5, label='Décédés')\n",
    "\n",
    "plt.legend(loc='upper right')\n",
    "plt.xlabel('Âge')\n",
    "plt.ylabel('Nombre de passagers homme n\\'ayant pas survécu')\n",
    "plt.show()"
   ]
  },
  {
   "cell_type": "markdown",
   "metadata": {},
   "source": [
    "### On peut constater ici que par rapport au nombre total d'homme sur le bateau, le pourcentage des hommes décédés est très élevé"
   ]
  },
  {
   "cell_type": "code",
   "execution_count": null,
   "metadata": {
    "scrolled": true
   },
   "outputs": [],
   "source": [
    "cut_variable = df[[\"Survived\", \"Age\", \"Embarked\", \"Sex\", \"Pclass\", \"Fare\"]]\n",
    "df_dummies = pd.get_dummies(cut_variable)\n",
    "df_dummies"
   ]
  },
  {
   "cell_type": "markdown",
   "metadata": {},
   "source": [
    "# Carte thermique"
   ]
  },
  {
   "cell_type": "code",
   "execution_count": null,
   "metadata": {},
   "outputs": [],
   "source": [
    "correlation = df_dummies.corr(method='pearson', numeric_only=True)\n",
    "plt.figure(figsize=(8, 6))\n",
    "sns.heatmap(correlation, annot=True)\n",
    "plt.show()"
   ]
  },
  {
   "cell_type": "markdown",
   "metadata": {},
   "source": [
    "### * Nous trouvons une correlation représentative entre le nombre de survivants et le genre (0.54). Ainsi, comme nous l'avons démontré dans les graphiques précédents, il s'agit du critère principal déterminant la survie d'un passager (rappellons nous : \"Les femmes et les enfants d'abord !\").\n",
    "\n",
    "### * Nous pouvons également observer une correlation entre l'âge et la classe du billet (-0,41), et ainsi un lien indirect entre l'âge, la classe et la survie.\n",
    "\n",
    "### * Le prix du billet peut êgalement être lié à la classe (-0.55) et être un critère permettant de définir les chances de survie.\n",
    "\n",
    "### * Enfin, nous pouvons constater que le lieu d'embarquement joue également un rôle dans le taux de survie. Ainsi, passager ayant embarqué à Queenstown (dernière escale) on eu un taux de mortalité plus élevé que ceux qui ont embarqué à Cherbourg ou Southampton. En faisant un lien avec le prix du billet, nous pouvons en déduire que les passagers ayant embarqué à Queenstown étaient majoritairement en classe 2 ou 3.\n"
   ]
  },
  {
   "cell_type": "code",
   "execution_count": null,
   "metadata": {},
   "outputs": [],
   "source": [
    "X = df[['Age', 'Embarked', 'Sex', 'Pclass', 'Fare']]\n",
    "y = df[['Survived']]"
   ]
  },
  {
   "cell_type": "code",
   "execution_count": null,
   "metadata": {
    "scrolled": false
   },
   "outputs": [],
   "source": [
    "X_train, X_test, y_train, y_test = train_test_split(X, y, test_size=0.3, random_state=1)"
   ]
  },
  {
   "cell_type": "code",
   "execution_count": null,
   "metadata": {},
   "outputs": [],
   "source": [
    "model = XGBClassifier(eval_metric='mlogloss')"
   ]
  },
  {
   "cell_type": "code",
   "execution_count": null,
   "metadata": {},
   "outputs": [],
   "source": [
    "model.fit(X_train, y_train)"
   ]
  },
  {
   "cell_type": "code",
   "execution_count": null,
   "metadata": {},
   "outputs": [],
   "source": [
    "y_pred = model.p(X_test)"
   ]
  },
  {
   "cell_type": "code",
   "execution_count": null,
   "metadata": {},
   "outputs": [],
   "source": [
    "model.predict_proba(X_test)"
   ]
  },
  {
   "cell_type": "code",
   "execution_count": null,
   "metadata": {},
   "outputs": [],
   "source": [
    "y_pred"
   ]
  },
  {
   "cell_type": "code",
   "execution_count": null,
   "metadata": {},
   "outputs": [],
   "source": [
    "model.save_model(\"modelTitanic.json\")"
   ]
  },
  {
   "cell_type": "code",
   "execution_count": null,
   "metadata": {},
   "outputs": [],
   "source": []
  }
 ],
 "metadata": {
  "kernelspec": {
   "display_name": "Python 3",
   "language": "python",
   "name": "python3"
  },
  "language_info": {
   "codemirror_mode": {
    "name": "ipython",
    "version": 3
   },
   "file_extension": ".py",
   "mimetype": "text/x-python",
   "name": "python",
   "nbconvert_exporter": "python",
   "pygments_lexer": "ipython3",
   "version": "3.8.10"
  }
 },
 "nbformat": 4,
 "nbformat_minor": 4
}
